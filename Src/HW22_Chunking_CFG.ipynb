{
 "cells": [
  {
   "cell_type": "markdown",
   "metadata": {},
   "source": [
    "Introduction to NLP course (2017-2018).\n",
    "\n",
    "Homework 2.2: Chunking. Parsing with context free grammar\n",
    "\n",
    "Objectives\n",
    "\n",
    "1) Define, train and evaluate uni-gram and bi-gram HMM chunkers\n",
    "- load the conll2000 corpus\n",
    "- split the corpus to test and train\n",
    "- define a class for unigram chunker\n",
    "- define a class for bi-gram chunker. The bi-gram chunker should backoff on the unigram.\n",
    "- train a unigram and a bi-gram chunker on the train corpus.\n",
    "- evaluate and compare both chunkers on the test corpus\n",
    "\n",
    "2) Create and use a simple context free grammar for syntactic parsing\n",
    "- extend the CFG given in the lectures\n",
    "- load the grammar in an nltk.RecursiveDescentParser\n",
    "- use the parset to tag a to corpus (given)\n",
    "- for each sentence, print the number of possible parses (correct answer below)\n",
    "\n",
    "Correct number of parses for each sentence:\n",
    "- “a young woman walks in the park” <- 1 parse\n",
    "- “two young men smile” <- 1 parse\n",
    "- “a young woman sees two men” <- 1 parse\n",
    "- “sees two men a young woman” <- 0 parses\n",
    "- “a young woman sees two old men in the park with a telescope” <- AT LEAST 3 parses\n",
    "- “a young woman two old men in the park with a telescope sees” <- 0 parses\n",
    "- “two angry men chase a woman with a telescope” <- 2 parses\n",
    "- “a woman I know owns a telescope” <- 1 parse\n",
    "- “a woman I know a telescope” <- 0 parses"
   ]
  },
  {
   "cell_type": "code",
   "execution_count": 1,
   "metadata": {
    "collapsed": true
   },
   "outputs": [],
   "source": [
    "# Import section\n",
    "import nltk\n",
    "from nltk.corpus import conll2000"
   ]
  },
  {
   "cell_type": "code",
   "execution_count": 2,
   "metadata": {
    "collapsed": true
   },
   "outputs": [],
   "source": [
    "# Class for unigram chunker\n",
    "# Takes a corpus in a pos tagged an i-o-b chunk format as input\n",
    "# Parses pos-tagged corpus with the parse funciton\n",
    "# Given in class\n",
    "class unigram_chunker(nltk.ChunkParserI):\n",
    "    \n",
    "    # Initialize and train the chunker\n",
    "    def __init__(self, train_sents):\n",
    "        # Take the pos and the iob tags of the corpus\n",
    "        # Ignore the actual words, we map from pos tag to iob tag\n",
    "        train_data = [[(t,c) for w,t,c in nltk.chunk.tree2conlltags(sent)] for sent in train_sents]\n",
    "        # Train an unigram tagger from the train data\n",
    "        self.tagger = nltk.UnigramTagger(train_data)\n",
    "    \n",
    "    # Parse function\n",
    "    # Takes a corpus in POS tagged format\n",
    "    def parse(self,sentence):\n",
    "        # Take the pos tags\n",
    "        pos_tags = [pos for (word,pos) in sentence]\n",
    "        # Use the tagger to tag the modified corpus\n",
    "        tagged_pos_tags = self.tagger.tag(pos_tags)\n",
    "        # Take the chunks from the tagged corpus\n",
    "        chunktags = [chunktag for (pos, chunktag) in tagged_pos_tags]\n",
    "        # Convert the output\n",
    "        conlltags = [(word, pos, chunktag) for ((word,pos),chunktag) in zip(sentence, chunktags)]\n",
    "        \n",
    "        # Return the tagged sentence\n",
    "        return nltk.chunk.conlltags2tree(conlltags)             "
   ]
  },
  {
   "cell_type": "code",
   "execution_count": 3,
   "metadata": {
    "collapsed": true
   },
   "outputs": [],
   "source": [
    "# Class for bigram chunker\n",
    "# Takes a corpus in a pos tagged an i-o-b chunk format as input\n",
    "# Parses pos-tagged corpus with the parse funciton\n",
    "class bigram_chunker(nltk.ChunkParserI):\n",
    "    \n",
    "    # Initialize and train the chunker\n",
    "    def __init__(self, train_sents, backoff_tagger):\n",
    "        # Take the pos and the iob tags of the corpus\n",
    "        # Ignore the actual words, we map from pos tag to iob tag\n",
    "        train_data = [[(t,c) for w,t,c in nltk.chunk.tree2conlltags(sent)]\n",
    "                      for sent in train_sents]\n",
    "        # Train an unigram tagger from the train data\n",
    "        self.tagger = nltk.BigramTagger(train_data, backoff=backoff_tagger)\n",
    "        \n",
    "    # Parse function\n",
    "    # Takes a corpus in POS tagged format\n",
    "    def parse(self,sentence):\n",
    "        # Take the pos tags\n",
    "        pos_tags = [pos for (word,pos) in sentence]\n",
    "        # Use the tagger to tag the modified corpus\n",
    "        tagged_pos_tags = self.tagger.tag(pos_tags)\n",
    "        # Take the chunks from the tagged corpus\n",
    "        chunktags = [chunktag for (pos, chunktag) in tagged_pos_tags]\n",
    "        # Convert the output\n",
    "        conlltags = [(word, pos, chunktag) for ((word,pos),chunktag) in zip(sentence, chunktags)]\n",
    "        \n",
    "        # Return the tagged sentence\n",
    "        return nltk.chunk.conlltags2tree(conlltags)"
   ]
  },
  {
   "cell_type": "code",
   "execution_count": 4,
   "metadata": {
    "collapsed": true
   },
   "outputs": [],
   "source": [
    "# Dummy function for exercise 1\n",
    "def hw22_ex1():\n",
    "    # Get the corpus\n",
    "    train = conll2000.chunked_sents(\"train.txt\")\n",
    "    test = conll2000.chunked_sents(\"test.txt\")\n",
    "    \n",
    "    # Train the two taggers:\n",
    "    u_chunker = unigram_chunker(train)\n",
    "    b_chunker = bigram_chunker(train, u_chunker.tagger)\n",
    "    \n",
    "    \n",
    "    # Evaluate and print the results:\n",
    "    print (u_chunker.evaluate(test))\n",
    "    print (b_chunker.evaluate(test))"
   ]
  },
  {
   "cell_type": "code",
   "execution_count": 5,
   "metadata": {
    "collapsed": true
   },
   "outputs": [],
   "source": [
    "# Dummy function for exercise 2\n",
    "def hw22_ex2():\n",
    "    \"\"\"Function for exercise 2\"\"\"\n",
    "    # corpus (given)\n",
    "    corpus = [['a', 'young', 'woman', 'walks', 'in', 'the', 'park'], \n",
    "['two', 'young', 'men', 'smile'], \n",
    "['a', 'young', 'woman', 'sees', 'two', 'men'], \n",
    "['sees', 'two', 'men', 'a', 'young', 'woman'], \n",
    "['a', 'young', 'woman', 'sees', 'two', 'old', 'men', 'in', 'the', 'park', 'with', 'a', 'telescope'], \n",
    "['a', 'young', 'woman', 'two', 'old', 'men', 'in', 'the', 'park', 'with', 'a', 'telescope', 'sees'], \n",
    "['two', 'angry', 'men', 'chase', 'a', 'woman', 'with', 'a', 'telescope'], \n",
    "['a', 'woman', 'I', 'know', 'owns', 'a', 'telescope'], \n",
    "['a', 'woman', 'I', 'know', 'a', 'telescope']]\n",
    "    \n",
    "    # Grammar (in a string format)\n",
    "    grammar_string = \"\"\"\n",
    "    S -> NP VP \n",
    "    VP -> V NP | V NP PP | V PP | V\n",
    "    PP -> P NP\n",
    "    V -> \"saw\" | \"ate\" | \"walked\" | \"walks\" | \"smile\" | \"sees\" | \"chase\" | \"know\" | \"owns\"\n",
    "    NP -> Det AN | AN\n",
    "    AN -> A AN | N PP | N REL | N\n",
    "    REL -> N V\n",
    "    A -> \"two\" | \"young\" | \"old\" | \"angry\"\n",
    "    Det -> \"a\" | \"an\" | \"the\" | \"my\"\n",
    "    N -> \"man\" | \"dog\" | \"cat\" | \"telescope\" | \"park\" | \"woman\" | \"men\" | \"John\" | \"Mary\" | \"Bob\" | \"I\"\n",
    "    P -> \"in\" | \"on\" | \"by\" | \"with\"\n",
    "    \"\"\"\n",
    "    \n",
    "    # Grammar (in nltk CFG format)\n",
    "    grammar = nltk.CFG.fromstring(grammar_string)\n",
    "    \n",
    "    # Parse the corpus, \n",
    "    # count the number of parses for each sentence,\n",
    "    # and print the sentence and the number of parses\n",
    "    parser = nltk.RecursiveDescentParser(grammar, trace=0)\n",
    "    \n",
    "    # YOUR CODE HERE\n",
    "    print(\"\\n\")\n",
    "    # Print the results in the generator in a readable form\n",
    "    print(\"\\n\".join([\" \".join(s) +\".  Parses: \" + str(len(list(parser.parse(s)))) for s in corpus]))\n",
    "    "
   ]
  },
  {
   "cell_type": "code",
   "execution_count": 6,
   "metadata": {
    "collapsed": true
   },
   "outputs": [],
   "source": [
    "def main():\n",
    "    print (\"\\n------------------------------------------------------------------------\")\n",
    "    print (\"Exercise 1: unigram and bigram chunker\")\n",
    "    hw22_ex1()\n",
    "    print (\"------------------------------------------------------------------------\")\n",
    "    print (\"\\n------------------------------------------------------------------------\")\n",
    "    print (\"Exercise 2: number of parses with a CFG\")\n",
    "    hw22_ex2()"
   ]
  },
  {
   "cell_type": "code",
   "execution_count": 7,
   "metadata": {},
   "outputs": [
    {
     "name": "stdout",
     "output_type": "stream",
     "text": [
      "\n",
      "------------------------------------------------------------------------\n",
      "Exercise 1: unigram and bigram chunker\n",
      "ChunkParse score:\n",
      "    IOB Accuracy:  86.5%%\n",
      "    Precision:     74.3%%\n",
      "    Recall:        86.4%%\n",
      "    F-Measure:     79.9%%\n",
      "ChunkParse score:\n",
      "    IOB Accuracy:  89.5%%\n",
      "    Precision:     81.1%%\n",
      "    Recall:        86.4%%\n",
      "    F-Measure:     83.7%%\n",
      "------------------------------------------------------------------------\n",
      "\n",
      "------------------------------------------------------------------------\n",
      "Exercise 2: number of parses with a CFG\n",
      "\n",
      "\n",
      "a young woman walks in the park.  Parses: 1\n",
      "two young men smile.  Parses: 1\n",
      "a young woman sees two men.  Parses: 1\n",
      "sees two men a young woman.  Parses: 0\n",
      "a young woman sees two old men in the park with a telescope.  Parses: 3\n",
      "a young woman two old men in the park with a telescope sees.  Parses: 0\n",
      "two angry men chase a woman with a telescope.  Parses: 2\n",
      "a woman I know owns a telescope.  Parses: 1\n",
      "a woman I know a telescope.  Parses: 0\n"
     ]
    }
   ],
   "source": [
    "# Running the main function\n",
    "if __name__==\"__main__\":\n",
    "    main()"
   ]
  }
 ],
 "metadata": {
  "kernelspec": {
   "display_name": "Python 2",
   "language": "python",
   "name": "python2"
  },
  "language_info": {
   "codemirror_mode": {
    "name": "ipython",
    "version": 2
   },
   "file_extension": ".py",
   "mimetype": "text/x-python",
   "name": "python",
   "nbconvert_exporter": "python",
   "pygments_lexer": "ipython2",
   "version": "2.7.14"
  }
 },
 "nbformat": 4,
 "nbformat_minor": 2
}
