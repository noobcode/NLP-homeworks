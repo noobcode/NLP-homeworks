{
 "cells": [
  {
   "cell_type": "markdown",
   "metadata": {},
   "source": [
    "Introduction to NLP course (2017-2018).\n",
    "\n",
    "Homework 3: Distributional semantic models.\n",
    "\n",
    "Objectives:\n",
    "\n",
    "1) Obtain co-occurrence vector representations with the followin properties:\n",
    "- window size 1, pmi, svd (50)\n",
    "- window size 3, no modifications\n",
    "- window size 3, pmi, no svd\n",
    "- window size 3, no pmi, svd (50)\n",
    "- window size 3, pmi, svd (50)\n",
    "\n",
    "2) Obtain word2vec embeddings with the following properties\n",
    "- window size 1, 50 dimensions\n",
    "- window size 1, 200 dimensions\n",
    "- window size 3, 50 dimensions\n",
    "- window size 3, 200 dimensions\n",
    "- window size 5, 50 dimensions\n",
    "\n",
    "3) Compare the performance of the 10 representations in 1 and 2 on the following tasks:\n",
    "- similarity between \"man\" and \"woman\"\n",
    "- the 5 most similar words to \"car\"\n",
    "- for DISSECT representations , correlation with gold standard\n",
    "- for Word2Vec, the similarity between \"queen\" and \"king + woman - man\""
   ]
  },
  {
   "cell_type": "code",
   "execution_count": 6,
   "metadata": {
    "collapsed": true
   },
   "outputs": [],
   "source": [
    "# Import section\n",
    "import nltk\n",
    "from nltk.corpus import gutenberg\n",
    "from nltk import FreqDist\n",
    "from nltk.collocations import *\n",
    "import re\n",
    "from collections import Counter\n",
    "import numpy as np\n",
    "import operator\n",
    "from scipy import spatial\n",
    "\n",
    "# Dissect\n",
    "from composes.semantic_space.space import Space\n",
    "from composes.utils import io_utils\n",
    "from composes.transformation.scaling.ppmi_weighting import PpmiWeighting\n",
    "from composes.transformation.dim_reduction.svd import Svd\n",
    "from composes.similarity.cos import CosSimilarity\n",
    "from composes.utils import scoring_utils\n",
    "\n",
    "# Gensim\n",
    "import gensim\n",
    "from gensim.models import Word2Vec"
   ]
  },
  {
   "cell_type": "markdown",
   "metadata": {},
   "source": [
    "## Word2Vec"
   ]
  },
  {
   "cell_type": "code",
   "execution_count": 13,
   "metadata": {},
   "outputs": [],
   "source": [
    "## Load the corpus\n",
    "corpus = gutenberg.sents()\n",
    "\n",
    "def word_2_vec_models(corpus, sizes, windows):\n",
    "    models = {}\n",
    "    for size, window in zip(sizes,windows):\n",
    "        model = Word2Vec(corpus, size=size, window=window, workers=4, compute_loss=True)\n",
    "        model.train(corpus, total_examples=len(corpus), epochs=10)\n",
    "        models['w2v_size_' + str(size) + '_window_' + str(window)] = model\n",
    "    return models\n",
    "\n",
    "sizes = [50, 200, 50, 200, 50]\n",
    "windows = [1, 1, 3, 3, 5]\n",
    "\n",
    "w2v_models = word_2_vec_models(corpus, sizes, windows)"
   ]
  },
  {
   "cell_type": "code",
   "execution_count": 15,
   "metadata": {},
   "outputs": [
    {
     "name": "stdout",
     "output_type": "stream",
     "text": [
      "0.0\n",
      "0.0\n",
      "0.0\n",
      "0.0\n",
      "0.0\n"
     ]
    }
   ],
   "source": [
    "# print loss of models\n",
    "for key, model in w2v_models.iteritems():\n",
    "    print model.get_latest_training_loss()"
   ]
  },
  {
   "cell_type": "markdown",
   "metadata": {},
   "source": [
    "## Compare performance"
   ]
  },
  {
   "cell_type": "code",
   "execution_count": 43,
   "metadata": {},
   "outputs": [
    {
     "name": "stderr",
     "output_type": "stream",
     "text": [
      "/home/carlo/anaconda2/lib/python2.7/site-packages/ipykernel_launcher.py:11: DeprecationWarning: Call to deprecated `__getitem__` (Method will be removed in 4.0.0, use self.wv.__getitem__() instead).\n",
      "  # This is added back by InteractiveShellApp.init_path()\n",
      "/home/carlo/anaconda2/lib/python2.7/site-packages/ipykernel_launcher.py:12: DeprecationWarning: Call to deprecated `__getitem__` (Method will be removed in 4.0.0, use self.wv.__getitem__() instead).\n",
      "  if sys.path[0] == '':\n"
     ]
    },
    {
     "data": {
      "text/html": [
       "<div>\n",
       "<style scoped>\n",
       "    .dataframe tbody tr th:only-of-type {\n",
       "        vertical-align: middle;\n",
       "    }\n",
       "\n",
       "    .dataframe tbody tr th {\n",
       "        vertical-align: top;\n",
       "    }\n",
       "\n",
       "    .dataframe thead th {\n",
       "        text-align: right;\n",
       "    }\n",
       "</style>\n",
       "<table border=\"1\" class=\"dataframe\">\n",
       "  <thead>\n",
       "    <tr style=\"text-align: right;\">\n",
       "      <th></th>\n",
       "      <th>0</th>\n",
       "      <th>1</th>\n",
       "      <th>2</th>\n",
       "    </tr>\n",
       "  </thead>\n",
       "  <tbody>\n",
       "    <tr>\n",
       "      <th>index</th>\n",
       "      <td>man_woman</td>\n",
       "      <td>top_5_car</td>\n",
       "      <td>queen</td>\n",
       "    </tr>\n",
       "    <tr>\n",
       "      <th>w2v_size_200window_1</th>\n",
       "      <td>0.674201</td>\n",
       "      <td>[(shutters, 0.72), (bushes, 0.71), (forwards, ...</td>\n",
       "      <td>0.440707</td>\n",
       "    </tr>\n",
       "    <tr>\n",
       "      <th>w2v_size_200window_3</th>\n",
       "      <td>0.64307</td>\n",
       "      <td>[(lane, 0.76), (bushes, 0.74), (coach, 0.73), ...</td>\n",
       "      <td>0.410389</td>\n",
       "    </tr>\n",
       "    <tr>\n",
       "      <th>w2v_size_50window_1</th>\n",
       "      <td>0.860462</td>\n",
       "      <td>[(bushes, 0.76), (shutters, 0.76), (bows, 0.75...</td>\n",
       "      <td>0.468468</td>\n",
       "    </tr>\n",
       "    <tr>\n",
       "      <th>w2v_size_50window_3</th>\n",
       "      <td>0.813659</td>\n",
       "      <td>[(lane, 0.87), (deck, 0.82), (bushes, 0.82), (...</td>\n",
       "      <td>0.457162</td>\n",
       "    </tr>\n",
       "    <tr>\n",
       "      <th>w2v_size_50window_5</th>\n",
       "      <td>0.702896</td>\n",
       "      <td>[(coach, 0.84), (lane, 0.84), (boat, 0.82), (w...</td>\n",
       "      <td>0.640341</td>\n",
       "    </tr>\n",
       "  </tbody>\n",
       "</table>\n",
       "</div>"
      ],
      "text/plain": [
       "                              0                                                  1         2\n",
       "index                 man_woman                                          top_5_car     queen\n",
       "w2v_size_200window_1   0.674201  [(shutters, 0.72), (bushes, 0.71), (forwards, ...  0.440707\n",
       "w2v_size_200window_3    0.64307  [(lane, 0.76), (bushes, 0.74), (coach, 0.73), ...  0.410389\n",
       "w2v_size_50window_1    0.860462  [(bushes, 0.76), (shutters, 0.76), (bows, 0.75...  0.468468\n",
       "w2v_size_50window_3    0.813659  [(lane, 0.87), (deck, 0.82), (bushes, 0.82), (...  0.457162\n",
       "w2v_size_50window_5    0.702896  [(coach, 0.84), (lane, 0.84), (boat, 0.82), (w...  0.640341"
      ]
     },
     "execution_count": 43,
     "metadata": {},
     "output_type": "execute_result"
    }
   ],
   "source": [
    "import pandas as pd\n",
    "pd.set_option('display.expand_frame_repr', False)\n",
    "\n",
    "performance_df = {k: [] for k in w2v_models}\n",
    "\n",
    "for key, model in w2v_models.iteritems():\n",
    "    performance_df[key].append(model.wv.similarity(w1=\"man\", w2=\"woman\"))\n",
    "    top_5_cars = [(el1, round(el2,2)) for el1, el2 in model.wv.most_similar(positive=\"car\", topn=5)]\n",
    "    performance_df[key].append(top_5_cars)\n",
    "    \n",
    "    custom_queen = np.add(np.subtract(model[\"king\"],model[\"man\"]),model[\"woman\"])\n",
    "    performance_df[key].append(1 - spatial.distance.cosine(custom_queen,model[\"queen\"]))\n",
    "\n",
    "performance_df = pd.DataFrame(performance_df, index=['man_woman', 'top_5_car', 'queen'])\n",
    "performance_df.reset_index().T"
   ]
  },
  {
   "cell_type": "code",
   "execution_count": null,
   "metadata": {
    "collapsed": true
   },
   "outputs": [],
   "source": []
  }
 ],
 "metadata": {
  "kernelspec": {
   "display_name": "Python 2",
   "language": "python",
   "name": "python2"
  },
  "language_info": {
   "codemirror_mode": {
    "name": "ipython",
    "version": 2
   },
   "file_extension": ".py",
   "mimetype": "text/x-python",
   "name": "python",
   "nbconvert_exporter": "python",
   "pygments_lexer": "ipython2",
   "version": "2.7.14"
  }
 },
 "nbformat": 4,
 "nbformat_minor": 2
}
